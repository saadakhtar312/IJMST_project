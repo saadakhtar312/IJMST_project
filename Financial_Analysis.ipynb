{
  "nbformat": 4,
  "nbformat_minor": 0,
  "metadata": {
    "colab": {
      "name": "Financial_Analysis.ipynb",
      "provenance": [],
      "authorship_tag": "ABX9TyPSmbPYdtsQN676C5C5uDYs",
      "include_colab_link": true
    },
    "kernelspec": {
      "name": "python3",
      "display_name": "Python 3"
    },
    "language_info": {
      "name": "python"
    }
  },
  "cells": [
    {
      "cell_type": "markdown",
      "metadata": {
        "id": "view-in-github",
        "colab_type": "text"
      },
      "source": [
        "<a href=\"https://colab.research.google.com/github/saadakhtar312/IJMST_project/blob/main/Financial_Analysis.ipynb\" target=\"_parent\"><img src=\"https://colab.research.google.com/assets/colab-badge.svg\" alt=\"Open In Colab\"/></a>"
      ]
    },
    {
      "cell_type": "code",
      "metadata": {
        "id": "cxQcL_poFlSz"
      },
      "source": [
        "import numpy as np\n",
        "import matplotlib.pyplot as plt\n",
        "import pandas as pd\n",
        "import datetime, os"
      ],
      "execution_count": 226,
      "outputs": []
    },
    {
      "cell_type": "code",
      "metadata": {
        "colab": {
          "base_uri": "https://localhost:8080/"
        },
        "id": "xfg4Rq9wGgzw",
        "outputId": "7070b466-1305-464b-fe63-ffdc4c1219fc"
      },
      "source": [
        "## Mount the google drive\n",
        "from google.colab import drive\n",
        "drive.mount('/content/drive', force_remount=True)"
      ],
      "execution_count": 227,
      "outputs": [
        {
          "output_type": "stream",
          "text": [
            "Mounted at /content/drive\n"
          ],
          "name": "stdout"
        }
      ]
    },
    {
      "cell_type": "code",
      "metadata": {
        "id": "YBhHsJKzHDP3"
      },
      "source": [
        "## Import the csv file \n",
        "DATADIR = r\"drive/My Drive/Finances\"\n",
        "file_name = \"pcbanking_July2_2019_To_June21_2021.csv\"\n",
        "path = os.path.join(DATADIR,file_name)\n",
        "df = pd.read_csv(path, header = None)"
      ],
      "execution_count": 228,
      "outputs": []
    },
    {
      "cell_type": "code",
      "metadata": {
        "id": "IgWCDoqeRdmt"
      },
      "source": [
        "# create columns and pre-process the csv file\n",
        "\n",
        "df.columns = ['Date','Amount','2','Type','Details']\n",
        "df['Withdrawl'] = 0.0\n",
        "df['Deposit'] = 0.0\n",
        "df.drop(['2'], axis = 1, inplace = True)\n",
        "df['Date'] = pd.to_datetime(df['Date']) # convert to datetime format"
      ],
      "execution_count": 229,
      "outputs": []
    },
    {
      "cell_type": "code",
      "metadata": {
        "id": "hKiF2rP-Scne"
      },
      "source": [
        "# Create an iterator for separating withdrawls from deposits\n",
        "\n",
        "for (columnName, columnData) in df.iteritems():\n",
        "  if columnName == 'Amount':\n",
        "    series = columnData"
      ],
      "execution_count": 230,
      "outputs": []
    },
    {
      "cell_type": "code",
      "metadata": {
        "colab": {
          "base_uri": "https://localhost:8080/"
        },
        "id": "ZRTFVHGwTIXR",
        "outputId": "81bb4bbe-de5b-4c0a-8749-ed8a299e9e4b"
      },
      "source": [
        "# Separates withrawls and deposits from each entry\n",
        "\n",
        "for index, val in enumerate(series):\n",
        "  if val < 0:\n",
        "    df['Withdrawl'][index] = val\n",
        "    # print(df['Withdrawl'][index],val)\n",
        "    df['Deposit'][index] = 0\n",
        "  if val > 0 :\n",
        "    df['Withdrawl'][index] = 0\n",
        "    df['Deposit'][index] = val"
      ],
      "execution_count": 231,
      "outputs": [
        {
          "output_type": "stream",
          "text": [
            "/usr/local/lib/python3.7/dist-packages/ipykernel_launcher.py:5: SettingWithCopyWarning: \n",
            "A value is trying to be set on a copy of a slice from a DataFrame\n",
            "\n",
            "See the caveats in the documentation: https://pandas.pydata.org/pandas-docs/stable/user_guide/indexing.html#returning-a-view-versus-a-copy\n",
            "  \"\"\"\n",
            "/usr/local/lib/python3.7/dist-packages/ipykernel_launcher.py:7: SettingWithCopyWarning: \n",
            "A value is trying to be set on a copy of a slice from a DataFrame\n",
            "\n",
            "See the caveats in the documentation: https://pandas.pydata.org/pandas-docs/stable/user_guide/indexing.html#returning-a-view-versus-a-copy\n",
            "  import sys\n",
            "/usr/local/lib/python3.7/dist-packages/ipykernel_launcher.py:9: SettingWithCopyWarning: \n",
            "A value is trying to be set on a copy of a slice from a DataFrame\n",
            "\n",
            "See the caveats in the documentation: https://pandas.pydata.org/pandas-docs/stable/user_guide/indexing.html#returning-a-view-versus-a-copy\n",
            "  if __name__ == '__main__':\n",
            "/usr/local/lib/python3.7/dist-packages/ipykernel_launcher.py:10: SettingWithCopyWarning: \n",
            "A value is trying to be set on a copy of a slice from a DataFrame\n",
            "\n",
            "See the caveats in the documentation: https://pandas.pydata.org/pandas-docs/stable/user_guide/indexing.html#returning-a-view-versus-a-copy\n",
            "  # Remove the CWD from sys.path while we load stuff.\n"
          ],
          "name": "stderr"
        }
      ]
    },
    {
      "cell_type": "code",
      "metadata": {
        "id": "e4A664Q_0IHQ"
      },
      "source": [
        "# Group by Year \n",
        "\n",
        "per_year = df.Date.dt.to_period(\"Y\")\n",
        "g_year = df.groupby(per_year)\n",
        "df_Yearly = g_year.sum() # Save the sum of monthly frequency in a separate dataframe\n",
        "df_Yearly.reset_index(inplace = True) # reset index"
      ],
      "execution_count": 232,
      "outputs": []
    },
    {
      "cell_type": "code",
      "metadata": {
        "id": "geo9RMw2c5Q9"
      },
      "source": [
        "# Group by Month \n",
        "\n",
        "per = df.Date.dt.to_period(\"M\")\n",
        "g = df.groupby(per)\n",
        "df_Monthly = g.sum() # Save the sum of monthly frequency in a separate dataframe\n",
        "df_Monthly.reset_index(inplace = True) # reset index"
      ],
      "execution_count": 233,
      "outputs": []
    },
    {
      "cell_type": "code",
      "metadata": {
        "id": "hCUEfY69yNI8"
      },
      "source": [
        "# Group by Day\n",
        "\n",
        "per_day = df.Date.dt.to_period(\"D\")\n",
        "g_day = df.groupby(per_day)\n",
        "df_Daily = g_day.sum()"
      ],
      "execution_count": 234,
      "outputs": []
    },
    {
      "cell_type": "code",
      "metadata": {
        "colab": {
          "base_uri": "https://localhost:8080/",
          "height": 529
        },
        "id": "1V0FVkj-0UvX",
        "outputId": "9e19d06b-7663-4729-c7f4-1482a4bf5d56"
      },
      "source": [
        "# Plotting by Year\n",
        "\n",
        "df_Yearly.plot('Date',['Withdrawl','Deposit'], kind ='bar', \n",
        "                figsize = (14,8), rot = '45', grid = True)"
      ],
      "execution_count": 235,
      "outputs": [
        {
          "output_type": "execute_result",
          "data": {
            "text/plain": [
              "<matplotlib.axes._subplots.AxesSubplot at 0x7fb865c57bd0>"
            ]
          },
          "metadata": {
            "tags": []
          },
          "execution_count": 235
        },
        {
          "output_type": "display_data",
          "data": {
            "image/png": "[encoded data removed]",
            "text/plain": [
              "<Figure size 1008x576 with 1 Axes>"
            ]
          },
          "metadata": {
            "tags": [],
            "needs_background": "light"
          }
        }
      ]
    },
    {
      "cell_type": "code",
      "metadata": {
        "colab": {
          "base_uri": "https://localhost:8080/",
          "height": 540
        },
        "id": "B9vAV978fKut",
        "outputId": "1a2dfd15-908c-4d2e-8f6f-bb921866b851"
      },
      "source": [
        "# Plotting by Month\n",
        "\n",
        "df_Monthly.plot('Date',['Withdrawl','Deposit'], kind ='bar', \n",
        "                figsize = (20,8), rot = '45', grid = True)"
      ],
      "execution_count": 236,
      "outputs": [
        {
          "output_type": "execute_result",
          "data": {
            "text/plain": [
              "<matplotlib.axes._subplots.AxesSubplot at 0x7fb865bc1850>"
            ]
          },
          "metadata": {
            "tags": []
          },
          "execution_count": 236
        },
        {
          "output_type": "display_data",
          "data": {
            "image/png": "[encoded data removed]",
            "text/plain": [
              "<Figure size 1440x576 with 1 Axes>"
            ]
          },
          "metadata": {
            "tags": [],
            "needs_background": "light"
          }
        }
      ]
    },
    {
      "cell_type": "code",
      "metadata": {
        "colab": {
          "base_uri": "https://localhost:8080/",
          "height": 552
        },
        "id": "lbNlrMMWyXhW",
        "outputId": "e8f41e3e-6d8e-417e-e402-c87b02d783ab"
      },
      "source": [
        "## Plot by Day of a particular month and year\n",
        "Month = '06'\n",
        "Year = '2021'\n",
        "Filter = Year + '-' + Month\n",
        "df_Daily.filter(like = Filter, axis = 0).reset_index().plot(x = 'Date', \n",
        "                                                         y = ['Withdrawl','Deposit'], \n",
        "                                                         kind ='bar', figsize = (20,8),\n",
        "                                                         rot = '45', grid = True)"
      ],
      "execution_count": 237,
      "outputs": [
        {
          "output_type": "execute_result",
          "data": {
            "text/plain": [
              "<matplotlib.axes._subplots.AxesSubplot at 0x7fb865a4a050>"
            ]
          },
          "metadata": {
            "tags": []
          },
          "execution_count": 237
        },
        {
          "output_type": "display_data",
          "data": {
            "image/png": "[encoded data removed]",
            "text/plain": [
              "<Figure size 1440x576 with 1 Axes>"
            ]
          },
          "metadata": {
            "tags": [],
            "needs_background": "light"
          }
        }
      ]
    },
    {
      "cell_type": "code",
      "metadata": {
        "colab": {
          "base_uri": "https://localhost:8080/",
          "height": 417
        },
        "id": "SYeedTutthUG",
        "outputId": "d68f258a-8afc-4a19-d797-220d9d64b116"
      },
      "source": [
        "df2.filter(like = '2021', axis = 0).reset_index()"
      ],
      "execution_count": 238,
      "outputs": [
        {
          "output_type": "execute_result",
          "data": {
            "text/html": [
              "<div>\n",
              "<style scoped>\n",
              "    .dataframe tbody tr th:only-of-type {\n",
              "        vertical-align: middle;\n",
              "    }\n",
              "\n",
              "    .dataframe tbody tr th {\n",
              "        vertical-align: top;\n",
              "    }\n",
              "\n",
              "    .dataframe thead th {\n",
              "        text-align: right;\n",
              "    }\n",
              "</style>\n",
              "<table border=\"1\" class=\"dataframe\">\n",
              "  <thead>\n",
              "    <tr style=\"text-align: right;\">\n",
              "      <th></th>\n",
              "      <th>Date</th>\n",
              "      <th>Amount</th>\n",
              "      <th>Withdrawl</th>\n",
              "      <th>Deposit</th>\n",
              "    </tr>\n",
              "  </thead>\n",
              "  <tbody>\n",
              "    <tr>\n",
              "      <th>0</th>\n",
              "      <td>2021-01-04</td>\n",
              "      <td>-80.00</td>\n",
              "      <td>-80.00</td>\n",
              "      <td>0.00</td>\n",
              "    </tr>\n",
              "    <tr>\n",
              "      <th>1</th>\n",
              "      <td>2021-01-05</td>\n",
              "      <td>500.00</td>\n",
              "      <td>-700.00</td>\n",
              "      <td>1200.00</td>\n",
              "    </tr>\n",
              "    <tr>\n",
              "      <th>2</th>\n",
              "      <td>2021-01-11</td>\n",
              "      <td>100.00</td>\n",
              "      <td>0.00</td>\n",
              "      <td>100.00</td>\n",
              "    </tr>\n",
              "    <tr>\n",
              "      <th>3</th>\n",
              "      <td>2021-01-14</td>\n",
              "      <td>-222.67</td>\n",
              "      <td>-222.67</td>\n",
              "      <td>0.00</td>\n",
              "    </tr>\n",
              "    <tr>\n",
              "      <th>4</th>\n",
              "      <td>2021-01-15</td>\n",
              "      <td>6724.00</td>\n",
              "      <td>-276.00</td>\n",
              "      <td>7000.00</td>\n",
              "    </tr>\n",
              "    <tr>\n",
              "      <th>...</th>\n",
              "      <td>...</td>\n",
              "      <td>...</td>\n",
              "      <td>...</td>\n",
              "      <td>...</td>\n",
              "    </tr>\n",
              "    <tr>\n",
              "      <th>61</th>\n",
              "      <td>2021-06-09</td>\n",
              "      <td>672.39</td>\n",
              "      <td>-270.00</td>\n",
              "      <td>942.39</td>\n",
              "    </tr>\n",
              "    <tr>\n",
              "      <th>62</th>\n",
              "      <td>2021-06-12</td>\n",
              "      <td>-57.63</td>\n",
              "      <td>-57.63</td>\n",
              "      <td>0.00</td>\n",
              "    </tr>\n",
              "    <tr>\n",
              "      <th>63</th>\n",
              "      <td>2021-06-14</td>\n",
              "      <td>-566.96</td>\n",
              "      <td>-566.96</td>\n",
              "      <td>0.00</td>\n",
              "    </tr>\n",
              "    <tr>\n",
              "      <th>64</th>\n",
              "      <td>2021-06-15</td>\n",
              "      <td>-648.00</td>\n",
              "      <td>-648.00</td>\n",
              "      <td>0.00</td>\n",
              "    </tr>\n",
              "    <tr>\n",
              "      <th>65</th>\n",
              "      <td>2021-06-19</td>\n",
              "      <td>-22.75</td>\n",
              "      <td>-22.75</td>\n",
              "      <td>0.00</td>\n",
              "    </tr>\n",
              "  </tbody>\n",
              "</table>\n",
              "<p>66 rows × 4 columns</p>\n",
              "</div>"
            ],
            "text/plain": [
              "          Date   Amount  Withdrawl  Deposit\n",
              "0   2021-01-04   -80.00     -80.00     0.00\n",
              "1   2021-01-05   500.00    -700.00  1200.00\n",
              "2   2021-01-11   100.00       0.00   100.00\n",
              "3   2021-01-14  -222.67    -222.67     0.00\n",
              "4   2021-01-15  6724.00    -276.00  7000.00\n",
              "..         ...      ...        ...      ...\n",
              "61  2021-06-09   672.39    -270.00   942.39\n",
              "62  2021-06-12   -57.63     -57.63     0.00\n",
              "63  2021-06-14  -566.96    -566.96     0.00\n",
              "64  2021-06-15  -648.00    -648.00     0.00\n",
              "65  2021-06-19   -22.75     -22.75     0.00\n",
              "\n",
              "[66 rows x 4 columns]"
            ]
          },
          "metadata": {
            "tags": []
          },
          "execution_count": 238
        }
      ]
    },
    {
      "cell_type": "markdown",
      "metadata": {
        "id": "JXdsMIqmw14g"
      },
      "source": [
        "## What this code does\n",
        "\n",
        "* Imports my banking transaction data from July 2019 - Jun 2021 (Past 2 years)\n",
        "\n",
        "* Can sort the data date-wise (Monthly, Daily, or yearly frequency)\n",
        "\n",
        "* Can plot withrawl vs. deposits monthwise, daywise, and yearly\n",
        "\n",
        "## What I want it to do\n",
        "\n",
        "* Zoom in on the withdrawls and deposits in a bit more detail\n",
        "\n",
        "* Separate investments from the withdrawls and have their own bar\n",
        "\n",
        "* Categorize withdrawls into remittances, monthly expenditure (grocery, eating out, trips, transportation etc., amazon stuff, other random things etc.)\n",
        "\n",
        "* Categorize deposits source-wise. Like main income, side jobs, tax refunds etc."
      ]
    }
  ]
}