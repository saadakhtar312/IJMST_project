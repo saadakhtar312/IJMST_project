{
  "nbformat": 4,
  "nbformat_minor": 0,
  "metadata": {
    "colab": {
      "name": "MC_code_IJMST.ipynb",
      "provenance": [],
      "authorship_tag": "ABX9TyNLS5Z3wkNcsdz2BYYCVBzf",
      "include_colab_link": true
    },
    "kernelspec": {
      "name": "python3",
      "display_name": "Python 3"
    },
    "language_info": {
      "name": "python"
    }
  },
  "cells": [
    {
      "cell_type": "markdown",
      "metadata": {
        "id": "view-in-github",
        "colab_type": "text"
      },
      "source": [
        "<a href=\"https://colab.research.google.com/github/saadakhtar312/IJMST_project/blob/main/MC_code_IJMST.ipynb\" target=\"_parent\"><img src=\"https://colab.research.google.com/assets/colab-badge.svg\" alt=\"Open In Colab\"/></a>"
      ]
    },
    {
      "cell_type": "code",
      "metadata": {
        "id": "jBOg30KTuspM"
      },
      "source": [
        "import numpy as np\n",
        "import matplotlib.pyplot as plt\n",
        "import matplotlib.ticker\n",
        "import sys\n",
        "%matplotlib inline\n",
        "np.set_printoptions(threshold=sys.maxsize)"
      ],
      "execution_count": null,
      "outputs": []
    },
    {
      "cell_type": "code",
      "metadata": {
        "id": "7-DGtPFtuzZy"
      },
      "source": [
        "## Function for defining MonteCarlo cases\n",
        "\n",
        "def MonteCarlo_cases(n):\n",
        "\n",
        "  # Inlet temperature\n",
        "\n",
        "  Temp_in_max = -25 + 273 # Max inlet temperature [K]\n",
        "  Temp_in_min = -35 + 273  # Min inlet temp [K]\n",
        "  Temp_SD = 1.8 # Standard deviation\n",
        "  Temp_in = np.random.normal( (Temp_in_max + Temp_in_min)/2, \n",
        "                          Temp_SD, n) # generate the random normal dist\n",
        "\n",
        "  # Flow rate\n",
        "\n",
        "  FL_max = 1.5  # Max flow rate [m3/hr]\n",
        "  FL_min = 3.5  # Min flow rate [m3/hr]\n",
        "  FL_SD = 0.35     # Standard deviation\n",
        "  FL = np.random.normal( (FL_max + FL_min)/2, \n",
        "                          FL_SD, n) # generate the random normal dist\n",
        "\n",
        "  # Epsilon\n",
        "\n",
        "  eps_max = 0.1  # Max epsilon [-]\n",
        "  eps_min = 0.9  # Min epsilon [-]\n",
        "  eps = np.random.uniform( eps_min, eps_max, n) # generate the random uniform dist\n",
        "\n",
        "  # Diameter\n",
        "\n",
        "  dia_max = 100  # Max dia [cm]\n",
        "  dia_min = 0.9  # Min dia [cm]\n",
        "  dia = np.random.uniform( dia_min, dia_max, n) # generate the random uniform dist\n",
        "\n",
        "  # Combining all 4 parameters\n",
        "  \n",
        "  MC_cases = np.zeros((n,4))\n",
        "\n",
        "  for i in np.arange(0,n):\n",
        "    MC_cases[i,0] = Temp_in[i]\n",
        "    MC_cases[i,1] = FL[i]\n",
        "    MC_cases[i,2] = eps[i]\n",
        "    MC_cases[i,3] = dia[i]\n",
        "\n",
        "  return MC_cases\n"
      ],
      "execution_count": null,
      "outputs": []
    },
    {
      "cell_type": "code",
      "metadata": {
        "id": "gnhXHBxcWerL"
      },
      "source": [
        "## Saving the output in csv\n",
        "\n",
        "sample_size = 1000\n",
        "d = MonteCarlo_cases(sample_size)\n",
        "file_name = \"MC_cases_\" + str(sample_size) + \".csv\"\n",
        "np.savetxt(file_name, d, delimiter=\",\")"
      ],
      "execution_count": null,
      "outputs": []
    },
    {
      "cell_type": "code",
      "metadata": {
        "colab": {
          "base_uri": "https://localhost:8080/",
          "height": 459
        },
        "id": "Qobua-lmYk5f",
        "outputId": "e37d3eb0-448a-4ab8-9a0c-6f3ba788c0ef"
      },
      "source": [
        "# Distribution plots\n",
        "\n",
        "fig, ax = plt.subplots(nrows=2, ncols=2, figsize = (10,7))\n",
        "\n",
        "ax[0,0].hist(d[:,0]-273)\n",
        "ax[0,1].hist(d[:,1])\n",
        "ax[1,0].hist(d[:,2])\n",
        "ax[1,1].hist(d[:,3])\n",
        "\n",
        "ax[0,0].set_xlabel('Temperature [$^o$C]')\n",
        "ax[0,1].set_xlabel('Flow rate [$m^3$/hr]')\n",
        "ax[1,0].set_xlabel('Epsilon [-]')\n",
        "ax[1,1].set_xlabel('Diameter [cm]')"
      ],
      "execution_count": null,
      "outputs": [
        {
          "output_type": "execute_result",
          "data": {
            "text/plain": [
              "Text(0.5, 0, 'Diameter [cm]')"
            ]
          },
          "metadata": {
            "tags": []
          },
          "execution_count": 21
        },
        {
          "output_type": "display_data",
          "data": {
            "image/png": "[encoded data removed]",
            "text/plain": [
              "<Figure size 720x504 with 4 Axes>"
            ]
          },
          "metadata": {
            "tags": [],
            "needs_background": "light"
          }
        }
      ]
    }
  ]
}